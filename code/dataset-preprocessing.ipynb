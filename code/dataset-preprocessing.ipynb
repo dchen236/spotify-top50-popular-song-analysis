{
 "cells": [
  {
   "cell_type": "markdown",
   "metadata": {
    "toc": true
   },
   "source": [
    "<h1>Table of Contents<span class=\"tocSkip\"></span></h1>\n",
    "<div class=\"toc\"><ul class=\"toc-item\"><li><span><a href=\"#extract-gender\" data-toc-modified-id=\"extract-gender-1\">extract gender</a></span></li><li><span><a href=\"#Get-lyrics-reading-ease-score\" data-toc-modified-id=\"Get-lyrics-reading-ease-score-2\">Get lyrics reading ease score</a></span></li><li><span><a href=\"#Save-as-csv\" data-toc-modified-id=\"Save-as-csv-3\">Save as csv</a></span></li></ul></div>"
   ]
  },
  {
   "cell_type": "code",
   "execution_count": 79,
   "metadata": {},
   "outputs": [],
   "source": [
    "import pandas as pd\n",
    "import os\n",
    "import textstat"
   ]
  },
  {
   "cell_type": "code",
   "execution_count": 80,
   "metadata": {},
   "outputs": [],
   "source": [
    "singer_gender = pd.read_csv(\"../data/singer_gender.csv\", index_col = 0, encoding = \"latin\")\n",
    "df = pd.read_csv(\"../data/2016-2019_with_lyrics_bio.csv\", sep = \"\\t\")\n",
    "df = df.drop(\"Unnamed: 0\", axis = 1)"
   ]
  },
  {
   "cell_type": "markdown",
   "metadata": {},
   "source": [
    "### extract gender"
   ]
  },
  {
   "cell_type": "code",
   "execution_count": 81,
   "metadata": {},
   "outputs": [],
   "source": [
    "def get_gender(name):\n",
    "    try:\n",
    "        return singer_gender.loc[name].gender.upper()[0]\n",
    "    except:\n",
    "        return \"X\""
   ]
  },
  {
   "cell_type": "code",
   "execution_count": 82,
   "metadata": {},
   "outputs": [],
   "source": [
    "df['artist.gender'] = df['artist'].apply(lambda name: get_gender(name))"
   ]
  },
  {
   "cell_type": "code",
   "execution_count": null,
   "metadata": {},
   "outputs": [],
   "source": [
    "with_gender = df[df['artist.gender'] != \"X\"]\n",
    "with_gender = with_gender.drop(['artist.bio'], axis = 1)"
   ]
  },
  {
   "cell_type": "markdown",
   "metadata": {},
   "source": [
    "### Get lyrics reading ease score"
   ]
  },
  {
   "cell_type": "code",
   "execution_count": 63,
   "metadata": {},
   "outputs": [],
   "source": [
    "# preprocess lyrics to remve tags like [Verse 1]\n",
    "# join the lyrics with \". \"\n",
    "# return reading ease score of the lyrics\n",
    "# see https://pypi.org/project/textstat/ for reading ease score definition\n",
    "def get_lyrics_reading_ease_score(lyrics):\n",
    "    lyrics = str(lyrics)\n",
    "    spt = lyrics.split(\"\\n\")\n",
    "    # remove tags like [Verse 1], [Pre-Chorus] etc\n",
    "    spt = [x for x in spt if len(x) != 0 ]\n",
    "    tag_removed = [lyric for lyric in spt if lyric[0] != \"[\" and lyric[-1] != \"]\"]\n",
    "    cleaned_lyrics = \". \".join(tag_removed)\n",
    "    return textstat.flesch_reading_ease(cleaned_lyrics)"
   ]
  },
  {
   "cell_type": "code",
   "execution_count": 68,
   "metadata": {},
   "outputs": [],
   "source": [
    "with_gender['lyrics.ease.score'] = with_gender['track.lyrics'].apply(lambda lyrics:\n",
    "                                                                     get_lyrics_reading_ease_score(lyrics))\n",
    "# get rid of lyrics once obtained reading ease score\n",
    "with_gender = with_gender.drop(\"track.lyrics\", axis = 1)"
   ]
  },
  {
   "cell_type": "markdown",
   "metadata": {},
   "source": [
    "### Save as csv"
   ]
  },
  {
   "cell_type": "code",
   "execution_count": 72,
   "metadata": {},
   "outputs": [],
   "source": [
    "with_gender.to_csv(\"../data/processed_dataset.csv\", index = False)"
   ]
  },
  {
   "cell_type": "code",
   "execution_count": 75,
   "metadata": {},
   "outputs": [
    {
     "data": {
      "text/html": [
       "<div>\n",
       "<style scoped>\n",
       "    .dataframe tbody tr th:only-of-type {\n",
       "        vertical-align: middle;\n",
       "    }\n",
       "\n",
       "    .dataframe tbody tr th {\n",
       "        vertical-align: top;\n",
       "    }\n",
       "\n",
       "    .dataframe thead th {\n",
       "        text-align: right;\n",
       "    }\n",
       "</style>\n",
       "<table border=\"1\" class=\"dataframe\">\n",
       "  <thead>\n",
       "    <tr style=\"text-align: right;\">\n",
       "      <th></th>\n",
       "      <th>title</th>\n",
       "      <th>artist</th>\n",
       "      <th>top genre</th>\n",
       "      <th>year</th>\n",
       "      <th>bpm</th>\n",
       "      <th>nrgy</th>\n",
       "      <th>dnce</th>\n",
       "      <th>dB</th>\n",
       "      <th>live</th>\n",
       "      <th>val</th>\n",
       "      <th>dur</th>\n",
       "      <th>acous</th>\n",
       "      <th>spch</th>\n",
       "      <th>pop</th>\n",
       "      <th>artist.gender</th>\n",
       "      <th>lyrics.ease.score</th>\n",
       "    </tr>\n",
       "  </thead>\n",
       "  <tbody>\n",
       "    <tr>\n",
       "      <th>0</th>\n",
       "      <td>Love Yourself</td>\n",
       "      <td>Justin Bieber</td>\n",
       "      <td>canadian pop</td>\n",
       "      <td>2016</td>\n",
       "      <td>100</td>\n",
       "      <td>38</td>\n",
       "      <td>61</td>\n",
       "      <td>-10</td>\n",
       "      <td>28</td>\n",
       "      <td>52</td>\n",
       "      <td>234</td>\n",
       "      <td>84</td>\n",
       "      <td>44</td>\n",
       "      <td>83</td>\n",
       "      <td>M</td>\n",
       "      <td>103.63</td>\n",
       "    </tr>\n",
       "    <tr>\n",
       "      <th>1</th>\n",
       "      <td>Into You</td>\n",
       "      <td>Ariana Grande</td>\n",
       "      <td>dance pop</td>\n",
       "      <td>2016</td>\n",
       "      <td>108</td>\n",
       "      <td>73</td>\n",
       "      <td>62</td>\n",
       "      <td>-6</td>\n",
       "      <td>14</td>\n",
       "      <td>37</td>\n",
       "      <td>244</td>\n",
       "      <td>2</td>\n",
       "      <td>11</td>\n",
       "      <td>80</td>\n",
       "      <td>F</td>\n",
       "      <td>85.59</td>\n",
       "    </tr>\n",
       "    <tr>\n",
       "      <th>2</th>\n",
       "      <td>This Is What You Came For</td>\n",
       "      <td>Calvin Harris</td>\n",
       "      <td>dance pop</td>\n",
       "      <td>2016</td>\n",
       "      <td>124</td>\n",
       "      <td>93</td>\n",
       "      <td>63</td>\n",
       "      <td>-3</td>\n",
       "      <td>15</td>\n",
       "      <td>47</td>\n",
       "      <td>222</td>\n",
       "      <td>20</td>\n",
       "      <td>3</td>\n",
       "      <td>80</td>\n",
       "      <td>M</td>\n",
       "      <td>107.38</td>\n",
       "    </tr>\n",
       "    <tr>\n",
       "      <th>3</th>\n",
       "      <td>Million Reasons</td>\n",
       "      <td>Lady Gaga</td>\n",
       "      <td>dance pop</td>\n",
       "      <td>2016</td>\n",
       "      <td>130</td>\n",
       "      <td>42</td>\n",
       "      <td>67</td>\n",
       "      <td>-8</td>\n",
       "      <td>11</td>\n",
       "      <td>15</td>\n",
       "      <td>205</td>\n",
       "      <td>49</td>\n",
       "      <td>4</td>\n",
       "      <td>80</td>\n",
       "      <td>F</td>\n",
       "      <td>97.70</td>\n",
       "    </tr>\n",
       "    <tr>\n",
       "      <th>4</th>\n",
       "      <td>Needed Me</td>\n",
       "      <td>Rihanna</td>\n",
       "      <td>barbadian pop</td>\n",
       "      <td>2016</td>\n",
       "      <td>111</td>\n",
       "      <td>31</td>\n",
       "      <td>67</td>\n",
       "      <td>-8</td>\n",
       "      <td>8</td>\n",
       "      <td>30</td>\n",
       "      <td>192</td>\n",
       "      <td>11</td>\n",
       "      <td>24</td>\n",
       "      <td>80</td>\n",
       "      <td>F</td>\n",
       "      <td>98.11</td>\n",
       "    </tr>\n",
       "  </tbody>\n",
       "</table>\n",
       "</div>"
      ],
      "text/plain": [
       "                       title         artist      top genre  year  bpm  nrgy  \\\n",
       "0              Love Yourself  Justin Bieber   canadian pop  2016  100    38   \n",
       "1                   Into You  Ariana Grande      dance pop  2016  108    73   \n",
       "2  This Is What You Came For  Calvin Harris      dance pop  2016  124    93   \n",
       "3            Million Reasons      Lady Gaga      dance pop  2016  130    42   \n",
       "4                  Needed Me        Rihanna  barbadian pop  2016  111    31   \n",
       "\n",
       "   dnce  dB  live  val  dur  acous  spch  pop artist.gender  lyrics.ease.score  \n",
       "0    61 -10    28   52  234     84    44   83             M             103.63  \n",
       "1    62  -6    14   37  244      2    11   80             F              85.59  \n",
       "2    63  -3    15   47  222     20     3   80             M             107.38  \n",
       "3    67  -8    11   15  205     49     4   80             F              97.70  \n",
       "4    67  -8     8   30  192     11    24   80             F              98.11  "
      ]
     },
     "execution_count": 75,
     "metadata": {},
     "output_type": "execute_result"
    }
   ],
   "source": [
    "new = pd.read_csv(\"../data/processed_dataset.csv\")\n",
    "new.head()"
   ]
  },
  {
   "cell_type": "code",
   "execution_count": 78,
   "metadata": {},
   "outputs": [
    {
     "data": {
      "text/html": [
       "<div>\n",
       "<style scoped>\n",
       "    .dataframe tbody tr th:only-of-type {\n",
       "        vertical-align: middle;\n",
       "    }\n",
       "\n",
       "    .dataframe tbody tr th {\n",
       "        vertical-align: top;\n",
       "    }\n",
       "\n",
       "    .dataframe thead th {\n",
       "        text-align: right;\n",
       "    }\n",
       "</style>\n",
       "<table border=\"1\" class=\"dataframe\">\n",
       "  <thead>\n",
       "    <tr style=\"text-align: right;\">\n",
       "      <th></th>\n",
       "      <th>title</th>\n",
       "      <th>artist</th>\n",
       "      <th>top genre</th>\n",
       "      <th>bpm</th>\n",
       "      <th>nrgy</th>\n",
       "      <th>dnce</th>\n",
       "      <th>dB</th>\n",
       "      <th>live</th>\n",
       "      <th>val</th>\n",
       "      <th>dur</th>\n",
       "      <th>acous</th>\n",
       "      <th>spch</th>\n",
       "      <th>pop</th>\n",
       "      <th>artist.gender</th>\n",
       "      <th>lyrics.ease.score</th>\n",
       "    </tr>\n",
       "    <tr>\n",
       "      <th>year</th>\n",
       "      <th></th>\n",
       "      <th></th>\n",
       "      <th></th>\n",
       "      <th></th>\n",
       "      <th></th>\n",
       "      <th></th>\n",
       "      <th></th>\n",
       "      <th></th>\n",
       "      <th></th>\n",
       "      <th></th>\n",
       "      <th></th>\n",
       "      <th></th>\n",
       "      <th></th>\n",
       "      <th></th>\n",
       "      <th></th>\n",
       "    </tr>\n",
       "  </thead>\n",
       "  <tbody>\n",
       "    <tr>\n",
       "      <th>2016</th>\n",
       "      <td>51</td>\n",
       "      <td>51</td>\n",
       "      <td>51</td>\n",
       "      <td>51</td>\n",
       "      <td>51</td>\n",
       "      <td>51</td>\n",
       "      <td>51</td>\n",
       "      <td>51</td>\n",
       "      <td>51</td>\n",
       "      <td>51</td>\n",
       "      <td>51</td>\n",
       "      <td>51</td>\n",
       "      <td>51</td>\n",
       "      <td>51</td>\n",
       "      <td>51</td>\n",
       "    </tr>\n",
       "    <tr>\n",
       "      <th>2017</th>\n",
       "      <td>27</td>\n",
       "      <td>27</td>\n",
       "      <td>27</td>\n",
       "      <td>27</td>\n",
       "      <td>27</td>\n",
       "      <td>27</td>\n",
       "      <td>27</td>\n",
       "      <td>27</td>\n",
       "      <td>27</td>\n",
       "      <td>27</td>\n",
       "      <td>27</td>\n",
       "      <td>27</td>\n",
       "      <td>27</td>\n",
       "      <td>27</td>\n",
       "      <td>27</td>\n",
       "    </tr>\n",
       "    <tr>\n",
       "      <th>2018</th>\n",
       "      <td>36</td>\n",
       "      <td>36</td>\n",
       "      <td>36</td>\n",
       "      <td>36</td>\n",
       "      <td>36</td>\n",
       "      <td>36</td>\n",
       "      <td>36</td>\n",
       "      <td>36</td>\n",
       "      <td>36</td>\n",
       "      <td>36</td>\n",
       "      <td>36</td>\n",
       "      <td>36</td>\n",
       "      <td>36</td>\n",
       "      <td>36</td>\n",
       "      <td>36</td>\n",
       "    </tr>\n",
       "    <tr>\n",
       "      <th>2019</th>\n",
       "      <td>12</td>\n",
       "      <td>12</td>\n",
       "      <td>12</td>\n",
       "      <td>12</td>\n",
       "      <td>12</td>\n",
       "      <td>12</td>\n",
       "      <td>12</td>\n",
       "      <td>12</td>\n",
       "      <td>12</td>\n",
       "      <td>12</td>\n",
       "      <td>12</td>\n",
       "      <td>12</td>\n",
       "      <td>12</td>\n",
       "      <td>12</td>\n",
       "      <td>12</td>\n",
       "    </tr>\n",
       "  </tbody>\n",
       "</table>\n",
       "</div>"
      ],
      "text/plain": [
       "      title  artist  top genre  bpm  nrgy  dnce  dB  live  val  dur  acous  \\\n",
       "year                                                                         \n",
       "2016     51      51         51   51    51    51  51    51   51   51     51   \n",
       "2017     27      27         27   27    27    27  27    27   27   27     27   \n",
       "2018     36      36         36   36    36    36  36    36   36   36     36   \n",
       "2019     12      12         12   12    12    12  12    12   12   12     12   \n",
       "\n",
       "      spch  pop  artist.gender  lyrics.ease.score  \n",
       "year                                               \n",
       "2016    51   51             51                 51  \n",
       "2017    27   27             27                 27  \n",
       "2018    36   36             36                 36  \n",
       "2019    12   12             12                 12  "
      ]
     },
     "execution_count": 78,
     "metadata": {},
     "output_type": "execute_result"
    }
   ],
   "source": [
    "new.groupby(\"year\").count()"
   ]
  },
  {
   "cell_type": "code",
   "execution_count": null,
   "metadata": {},
   "outputs": [],
   "source": []
  }
 ],
 "metadata": {
  "kernelspec": {
   "display_name": "Python 3",
   "language": "python",
   "name": "python3"
  },
  "language_info": {
   "codemirror_mode": {
    "name": "ipython",
    "version": 3
   },
   "file_extension": ".py",
   "mimetype": "text/x-python",
   "name": "python",
   "nbconvert_exporter": "python",
   "pygments_lexer": "ipython3",
   "version": "3.7.3"
  },
  "toc": {
   "base_numbering": 1,
   "nav_menu": {},
   "number_sections": false,
   "sideBar": true,
   "skip_h1_title": false,
   "title_cell": "Table of Contents",
   "title_sidebar": "Contents",
   "toc_cell": true,
   "toc_position": {},
   "toc_section_display": true,
   "toc_window_display": true
  },
  "varInspector": {
   "cols": {
    "lenName": 16,
    "lenType": 16,
    "lenVar": 40
   },
   "kernels_config": {
    "python": {
     "delete_cmd_postfix": "",
     "delete_cmd_prefix": "del ",
     "library": "var_list.py",
     "varRefreshCmd": "print(var_dic_list())"
    },
    "r": {
     "delete_cmd_postfix": ") ",
     "delete_cmd_prefix": "rm(",
     "library": "var_list.r",
     "varRefreshCmd": "cat(var_dic_list()) "
    }
   },
   "types_to_exclude": [
    "module",
    "function",
    "builtin_function_or_method",
    "instance",
    "_Feature"
   ],
   "window_display": false
  }
 },
 "nbformat": 4,
 "nbformat_minor": 2
}
